{
  "nbformat": 4,
  "nbformat_minor": 0,
  "metadata": {
    "colab": {
      "provenance": []
    },
    "kernelspec": {
      "name": "python3",
      "display_name": "Python 3"
    },
    "language_info": {
      "name": "python"
    }
  },
  "cells": [
    {
      "cell_type": "code",
      "execution_count": 1,
      "metadata": {
        "id": "m5HBkwVaK6Jx"
      },
      "outputs": [],
      "source": [
        "from abc import ABC,abstractmethod"
      ]
    },
    {
      "cell_type": "code",
      "source": [
        "class BankApp(ABC):\n",
        "  def database(self):\n",
        "    print('connected to databse')\n",
        "\n",
        "  @abstractmethod\n",
        "  def security(self):\n",
        "    pass"
      ],
      "metadata": {
        "id": "mwA0ygbyL8vo"
      },
      "execution_count": 3,
      "outputs": []
    },
    {
      "cell_type": "code",
      "source": [
        "class MobileApp(BankApp):\n",
        "  def mobile_login(self):\n",
        "    print('login into mobile')\n",
        "\n",
        "  def security(self):\n",
        "    print('mobile security')"
      ],
      "metadata": {
        "id": "Wg707YOIMUmu"
      },
      "execution_count": 4,
      "outputs": []
    },
    {
      "cell_type": "code",
      "source": [],
      "metadata": {
        "id": "fN3FOjqvNFL_"
      },
      "execution_count": null,
      "outputs": []
    }
  ]
}