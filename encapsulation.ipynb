{
  "nbformat": 4,
  "nbformat_minor": 0,
  "metadata": {
    "colab": {
      "provenance": []
    },
    "kernelspec": {
      "name": "python3",
      "display_name": "Python 3"
    },
    "language_info": {
      "name": "python"
    }
  },
  "cells": [
    {
      "cell_type": "code",
      "execution_count": 1,
      "metadata": {
        "colab": {
          "base_uri": "https://localhost:8080/",
          "height": 36
        },
        "id": "c_lkapzPg83p",
        "outputId": "50c350af-cb90-4e8a-89e3-66e0d69db240"
      },
      "outputs": [
        {
          "output_type": "execute_result",
          "data": {
            "text/plain": [
              "'golu,male'"
            ],
            "application/vnd.google.colaboratory.intrinsic+json": {
              "type": "string"
            }
          },
          "metadata": {},
          "execution_count": 1
        }
      ],
      "source": [
        "class Person:\n",
        "  def __init__(self,name,gender):\n",
        "    self.name=name\n",
        "    self.gender=gender\n",
        "\n",
        "  def info(self):\n",
        "    return '{},{}'.format(self.name,self.gender)\n",
        "\n",
        "p1=Person('golu','male')\n",
        "p2=Person('sonu','male')\n",
        "p1.info()"
      ]
    },
    {
      "cell_type": "code",
      "source": [
        "p1.gender='female'\n",
        "p1.info()"
      ],
      "metadata": {
        "colab": {
          "base_uri": "https://localhost:8080/",
          "height": 36
        },
        "id": "qNoKV6kHhBYe",
        "outputId": "96e90526-f38e-4a9d-cc13-dfdf9f3e5708"
      },
      "execution_count": 2,
      "outputs": [
        {
          "output_type": "execute_result",
          "data": {
            "text/plain": [
              "'golu,female'"
            ],
            "application/vnd.google.colaboratory.intrinsic+json": {
              "type": "string"
            }
          },
          "metadata": {},
          "execution_count": 2
        }
      ]
    },
    {
      "cell_type": "code",
      "source": [
        "class Person:\n",
        "  def __init__(self,name,gender):\n",
        "    self.__name=name\n",
        "    self.__gender=gender\n",
        "\n",
        "  def info(self):\n",
        "    return '{},{}'.format(self.__name,self.__gender)\n",
        "\n",
        "p1=Person('golu','male')\n",
        "p2=Person('sonu','male')\n",
        "p1.info()"
      ],
      "metadata": {
        "colab": {
          "base_uri": "https://localhost:8080/",
          "height": 36
        },
        "id": "fCipDPA3hE-V",
        "outputId": "82b5c6c4-9d01-45d4-a134-3cd975ae65e6"
      },
      "execution_count": 3,
      "outputs": [
        {
          "output_type": "execute_result",
          "data": {
            "text/plain": [
              "'golu,male'"
            ],
            "application/vnd.google.colaboratory.intrinsic+json": {
              "type": "string"
            }
          },
          "metadata": {},
          "execution_count": 3
        }
      ]
    },
    {
      "cell_type": "code",
      "source": [
        "p1.__gender='female'\n",
        "p1.info()"
      ],
      "metadata": {
        "colab": {
          "base_uri": "https://localhost:8080/",
          "height": 36
        },
        "id": "8dBgA2kphHk_",
        "outputId": "9ce76e1a-22ab-4050-ab5b-6ea94bb381d5"
      },
      "execution_count": 4,
      "outputs": [
        {
          "output_type": "execute_result",
          "data": {
            "text/plain": [
              "'golu,male'"
            ],
            "application/vnd.google.colaboratory.intrinsic+json": {
              "type": "string"
            }
          },
          "metadata": {},
          "execution_count": 4
        }
      ]
    },
    {
      "cell_type": "code",
      "source": [
        "p1._Person__gender='female'\n",
        "p1.info()"
      ],
      "metadata": {
        "colab": {
          "base_uri": "https://localhost:8080/",
          "height": 36
        },
        "id": "MD6dT06DhK-C",
        "outputId": "335f9210-94e6-4251-a916-d00c0849b8a9"
      },
      "execution_count": 5,
      "outputs": [
        {
          "output_type": "execute_result",
          "data": {
            "text/plain": [
              "'golu,female'"
            ],
            "application/vnd.google.colaboratory.intrinsic+json": {
              "type": "string"
            }
          },
          "metadata": {},
          "execution_count": 5
        }
      ]
    },
    {
      "cell_type": "code",
      "source": [
        "#getter,setter\n",
        "class Person:\n",
        "  def __init__(self,name,gender):\n",
        "    self.__name=name\n",
        "    self.__gender=gender\n",
        "\n",
        "  def get(self):\n",
        "    return self.__name\n",
        "\n",
        "  def set(self,new_name):\n",
        "    if type(new_name)==str:\n",
        "      self.__name=new_name\n",
        "    else:\n",
        "        print('nikal le bhai tu')\n",
        "\n",
        "\n",
        "\n",
        "p1=Person('golu','male')\n",
        "p2=Person('sonu','male')\n"
      ],
      "metadata": {
        "id": "ikQepmTghOCR"
      },
      "execution_count": 12,
      "outputs": []
    },
    {
      "cell_type": "code",
      "source": [
        "p1.get()"
      ],
      "metadata": {
        "colab": {
          "base_uri": "https://localhost:8080/",
          "height": 36
        },
        "id": "2Eu6kzZHj2CD",
        "outputId": "40d6e3a5-58d1-4d58-a295-b68c8a4b82dc"
      },
      "execution_count": 13,
      "outputs": [
        {
          "output_type": "execute_result",
          "data": {
            "text/plain": [
              "'golu'"
            ],
            "application/vnd.google.colaboratory.intrinsic+json": {
              "type": "string"
            }
          },
          "metadata": {},
          "execution_count": 13
        }
      ]
    },
    {
      "cell_type": "code",
      "source": [
        "p1.set('Dhiraj')"
      ],
      "metadata": {
        "id": "xreoakCKj4FV"
      },
      "execution_count": 14,
      "outputs": []
    },
    {
      "cell_type": "code",
      "source": [
        "p1.get()"
      ],
      "metadata": {
        "colab": {
          "base_uri": "https://localhost:8080/",
          "height": 36
        },
        "id": "YoQjfYhAko89",
        "outputId": "3558cd02-93bd-4782-f1d6-7f5b77ba7660"
      },
      "execution_count": 15,
      "outputs": [
        {
          "output_type": "execute_result",
          "data": {
            "text/plain": [
              "'Dhiraj'"
            ],
            "application/vnd.google.colaboratory.intrinsic+json": {
              "type": "string"
            }
          },
          "metadata": {},
          "execution_count": 15
        }
      ]
    },
    {
      "cell_type": "code",
      "source": [
        "class Person:\n",
        "  def __init__(self,name,gender):\n",
        "    self.__name=name\n",
        "    self.__gender=gender\n",
        "    self.id=0\n",
        "    self.id+=1\n",
        "\n",
        "  def get(self):\n",
        "    return self.__name\n",
        "\n",
        "  def set(self,new_name):\n",
        "    if type(new_name)==str:\n",
        "      self.__name=new_name\n",
        "    else:\n",
        "        print('nikal le bhai tu')\n",
        "\n",
        "\n",
        "\n",
        "p1=Person('golu','male')\n",
        "p2=Person('sonu','male')"
      ],
      "metadata": {
        "id": "O9H7FHttkwa4"
      },
      "execution_count": 17,
      "outputs": []
    },
    {
      "cell_type": "code",
      "source": [
        "p1.id"
      ],
      "metadata": {
        "colab": {
          "base_uri": "https://localhost:8080/"
        },
        "id": "VOKHjgw_nsrZ",
        "outputId": "34151353-0f25-434c-93ca-3add3aade5ea"
      },
      "execution_count": 19,
      "outputs": [
        {
          "output_type": "execute_result",
          "data": {
            "text/plain": [
              "1"
            ]
          },
          "metadata": {},
          "execution_count": 19
        }
      ]
    },
    {
      "cell_type": "code",
      "source": [
        "p2.id"
      ],
      "metadata": {
        "colab": {
          "base_uri": "https://localhost:8080/"
        },
        "id": "MN7uPh_XoEos",
        "outputId": "ac945dc6-31e9-43c4-bb14-11f221f851f8"
      },
      "execution_count": 20,
      "outputs": [
        {
          "output_type": "execute_result",
          "data": {
            "text/plain": [
              "1"
            ]
          },
          "metadata": {},
          "execution_count": 20
        }
      ]
    },
    {
      "cell_type": "code",
      "source": [
        "# to solve these\n",
        "class Person:\n",
        "  id=1\n",
        "\n",
        "  def __init__(self,name,gender):\n",
        "    self.__name=name\n",
        "    self.__gender=gender\n",
        "    self.id=Person.id\n",
        "    Person.id +=1\n",
        "    print(self.id)\n",
        "\n",
        "  def get(self):\n",
        "    return self.__name\n",
        "\n",
        "  def set(self,new_name):\n",
        "    if type(new_name)==str:\n",
        "      self.__name=new_name\n",
        "    else:\n",
        "        print('nikal le bhai tu')\n",
        "\n",
        "\n",
        "\n",
        "p1=Person('golu','male')\n",
        "p2=Person('sonu','male')"
      ],
      "metadata": {
        "colab": {
          "base_uri": "https://localhost:8080/"
        },
        "id": "UqANmY1joHh3",
        "outputId": "181759ac-c58f-46c7-84f3-dfa89ab10cff"
      },
      "execution_count": 30,
      "outputs": [
        {
          "output_type": "stream",
          "name": "stdout",
          "text": [
            "1\n",
            "2\n"
          ]
        }
      ]
    },
    {
      "cell_type": "code",
      "source": [
        "Person.id"
      ],
      "metadata": {
        "colab": {
          "base_uri": "https://localhost:8080/"
        },
        "id": "qk5TO3yFoWfw",
        "outputId": "d7f26d7b-729d-4f67-8c98-f9540f0bd583"
      },
      "execution_count": 31,
      "outputs": [
        {
          "output_type": "execute_result",
          "data": {
            "text/plain": [
              "3"
            ]
          },
          "metadata": {},
          "execution_count": 31
        }
      ]
    },
    {
      "cell_type": "code",
      "source": [
        "p2.id"
      ],
      "metadata": {
        "colab": {
          "base_uri": "https://localhost:8080/"
        },
        "id": "RdFJZEUEoYZi",
        "outputId": "dda5c644-f932-46d5-91fc-ae28dd6eb949"
      },
      "execution_count": 23,
      "outputs": [
        {
          "output_type": "execute_result",
          "data": {
            "text/plain": [
              "1"
            ]
          },
          "metadata": {},
          "execution_count": 23
        }
      ]
    },
    {
      "cell_type": "code",
      "source": [
        "#problem\n",
        "Person.id='hehehe'"
      ],
      "metadata": {
        "id": "MIvdNbzeoZx5"
      },
      "execution_count": 32,
      "outputs": []
    },
    {
      "cell_type": "code",
      "source": [
        "# solution\n",
        "class Person:\n",
        "  __id=1\n",
        "\n",
        "  def __init__(self,name,gender):\n",
        "    self.__name=name\n",
        "    self.__gender=gender\n",
        "    self.id=Person.__id\n",
        "    Person.__id +=1\n",
        "  @staticmethod\n",
        "  def getid():\n",
        "    return Person.__id\n",
        "\n",
        "\n",
        "\n",
        "  def get(self):\n",
        "    return self.__name\n",
        "\n",
        "  def set(self,new_name):\n",
        "    if type(new_name)==str:\n",
        "      self.__name=new_name\n",
        "    else:\n",
        "        print('nikal le bhai tu')\n",
        "\n",
        "\n",
        "\n",
        "p1=Person('golu','male')\n",
        "p2=Person('sonu','male')"
      ],
      "metadata": {
        "id": "mI_NN3n4r6RP"
      },
      "execution_count": 45,
      "outputs": []
    },
    {
      "cell_type": "code",
      "source": [
        "Person.getid()"
      ],
      "metadata": {
        "colab": {
          "base_uri": "https://localhost:8080/"
        },
        "id": "1mG0aXWssBTo",
        "outputId": "6abe9105-46fe-4116-9cd2-55bc73d4b9f7"
      },
      "execution_count": 47,
      "outputs": [
        {
          "output_type": "execute_result",
          "data": {
            "text/plain": [
              "3"
            ]
          },
          "metadata": {},
          "execution_count": 47
        }
      ]
    },
    {
      "cell_type": "code",
      "source": [],
      "metadata": {
        "id": "rbbQguKjspdx"
      },
      "execution_count": null,
      "outputs": []
    }
  ]
}