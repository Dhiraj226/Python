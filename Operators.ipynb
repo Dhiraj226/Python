{
  "nbformat": 4,
  "nbformat_minor": 0,
  "metadata": {
    "colab": {
      "provenance": [],
      "toc_visible": true
    },
    "kernelspec": {
      "name": "python3",
      "display_name": "Python 3"
    },
    "language_info": {
      "name": "python"
    }
  },
  "cells": [
    {
      "cell_type": "code",
      "execution_count": null,
      "metadata": {
        "colab": {
          "base_uri": "https://localhost:8080/"
        },
        "id": "avolvfr4U1mL",
        "outputId": "ebadf431-248a-4dcc-d8bc-a1bb0b09eab2"
      },
      "outputs": [
        {
          "output_type": "stream",
          "name": "stdout",
          "text": [
            "17\n",
            "5\n",
            "66\n",
            "1.8333333333333333\n",
            "5\n",
            "1\n",
            "1771561\n"
          ]
        }
      ],
      "source": [
        "# Arithematic Operator\n",
        "\n",
        "print(11+6)\n",
        "print(11-6)\n",
        "print(11*6)\n",
        "print(11/6)\n",
        "print(11%6)\n",
        "print(11//6)\n",
        "print(11**6)\n"
      ]
    },
    {
      "cell_type": "code",
      "source": [
        "# Relational operator\n",
        "\n",
        "print(11>6)\n",
        "print(11<6)\n",
        "print(11>=6)\n",
        "print(11<=6)\n",
        "print(11==6)\n",
        "print(11!=6)"
      ],
      "metadata": {
        "colab": {
          "base_uri": "https://localhost:8080/"
        },
        "id": "VCyg7K8pW1Bx",
        "outputId": "ff68e641-4dd9-4e71-9dd0-4a27ca538ff3"
      },
      "execution_count": null,
      "outputs": [
        {
          "output_type": "stream",
          "name": "stdout",
          "text": [
            "True\n",
            "False\n",
            "True\n",
            "False\n",
            "False\n",
            "True\n"
          ]
        }
      ]
    },
    {
      "cell_type": "code",
      "source": [
        "#logical operator\n",
        "\n",
        "print(11>6 and 11<6)\n",
        "print(11>6 or 11<6)\n",
        "print(not(11>6 and 11<6))"
      ],
      "metadata": {
        "colab": {
          "base_uri": "https://localhost:8080/"
        },
        "id": "T7n92d4gXgj_",
        "outputId": "111515be-b361-407e-beec-86ee48901bc5"
      },
      "execution_count": null,
      "outputs": [
        {
          "output_type": "stream",
          "name": "stdout",
          "text": [
            "False\n",
            "True\n",
            "True\n"
          ]
        }
      ]
    },
    {
      "cell_type": "code",
      "source": [
        "# Bitwise\n",
        "print(2 & 3)\n",
        "print(2 | 3)\n",
        "print(2 ^ 3)\n",
        "print(~2)\n",
        "print(2 >> 3)\n",
        "print(2 << 3)\n"
      ],
      "metadata": {
        "colab": {
          "base_uri": "https://localhost:8080/"
        },
        "id": "Unja33WEXydl",
        "outputId": "a4423da6-c2d1-4775-989d-e162026aa0da"
      },
      "execution_count": null,
      "outputs": [
        {
          "output_type": "stream",
          "name": "stdout",
          "text": [
            "2\n",
            "3\n",
            "1\n",
            "-3\n",
            "0\n",
            "16\n"
          ]
        }
      ]
    },
    {
      "cell_type": "code",
      "source": [
        "# Assignment\n",
        "a = 3\n",
        "print(a)\n",
        "a += 3\n",
        "print(a)\n"
      ],
      "metadata": {
        "colab": {
          "base_uri": "https://localhost:8080/"
        },
        "id": "H4MG35dbZGK0",
        "outputId": "4af84f45-4ed2-41dc-edb7-357b9971e3dd"
      },
      "execution_count": null,
      "outputs": [
        {
          "output_type": "stream",
          "name": "stdout",
          "text": [
            "3\n",
            "6\n"
          ]
        }
      ]
    },
    {
      "cell_type": "code",
      "source": [
        "# Membership\n",
        "\n",
        "print('D' in 'Delhi')\n",
        "print('D' not in 'Delhi')"
      ],
      "metadata": {
        "colab": {
          "base_uri": "https://localhost:8080/"
        },
        "id": "xCFfJsoJbzIt",
        "outputId": "1f552072-62ac-442b-8778-9363d840c9a3"
      },
      "execution_count": null,
      "outputs": [
        {
          "output_type": "stream",
          "name": "stdout",
          "text": [
            "True\n",
            "False\n"
          ]
        }
      ]
    },
    {
      "cell_type": "code",
      "source": [
        "l=[1,2,3,4]\n",
        "print(6 in l)"
      ],
      "metadata": {
        "colab": {
          "base_uri": "https://localhost:8080/"
        },
        "id": "WpH02Y8RcGmE",
        "outputId": "00269bcc-61c3-4130-a621-6a075af90170"
      },
      "execution_count": null,
      "outputs": [
        {
          "output_type": "stream",
          "name": "stdout",
          "text": [
            "False\n"
          ]
        }
      ]
    },
    {
      "cell_type": "code",
      "source": [
        "# find the sum of a 3 digit no. entered by user without loop\n",
        "a=int(input(\"Enter the number \"))\n",
        "n1=a%10\n",
        "a=a//10\n",
        "n2=a%10\n",
        "a=a//10\n",
        "n3=a%10\n",
        "print(n1+n2+n3)"
      ],
      "metadata": {
        "colab": {
          "base_uri": "https://localhost:8080/"
        },
        "id": "IKJx4v6ncQg_",
        "outputId": "44fd1b71-3ab6-40f3-8a15-eab7d9034917"
      },
      "execution_count": null,
      "outputs": [
        {
          "output_type": "stream",
          "name": "stdout",
          "text": [
            "Enter the number 2131\n",
            "5\n"
          ]
        }
      ]
    },
    {
      "cell_type": "code",
      "source": [],
      "metadata": {
        "id": "oAaWw32ee6hL"
      },
      "execution_count": null,
      "outputs": []
    }
  ]
}