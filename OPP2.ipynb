{
  "nbformat": 4,
  "nbformat_minor": 0,
  "metadata": {
    "colab": {
      "provenance": []
    },
    "kernelspec": {
      "name": "python3",
      "display_name": "Python 3"
    },
    "language_info": {
      "name": "python"
    }
  },
  "cells": [
    {
      "cell_type": "code",
      "execution_count": null,
      "metadata": {
        "id": "eTOsqix4ba-4"
      },
      "outputs": [],
      "source": [
        "import math"
      ]
    },
    {
      "cell_type": "markdown",
      "source": [
        "Problem\n",
        "1.A user can create and view 2D coordinates\n",
        "2.A user can find out the distance between 2 coordinates\n",
        "3.A user can find find the distance of a coordinate from origin\n",
        "4.A user can check if a point lies on a given line\n",
        "5.A user can find the distance between a given 2D point and a given line"
      ],
      "metadata": {
        "id": "ri7zKUtEZ_ro"
      }
    },
    {
      "cell_type": "code",
      "source": [
        "class Point:\n",
        "  def __init__(self,x,y):\n",
        "    self.x=x\n",
        "    self.y=y\n",
        "  def __str__(self):\n",
        "    return \"({},{})\".format(self.x,self.y)\n",
        "\n",
        "  def distance(c1,c2):\n",
        "    d=math.sqrt((c2.x-c1.x)**2 + (c2.y-c1.y)**2)\n",
        "    return d\n",
        "\n",
        "  def origin_distance(self):\n",
        "    d=math.sqrt((self.x-0)**2 + (self.y-0)**2)\n",
        "    return d\n",
        "\n",
        "\n",
        "p1=Point(1,2)\n",
        "print(p1)\n",
        "p2=Point(2,3)\n",
        "print(p2.distance(p1))\n",
        "print(p2.origin_distance())\n"
      ],
      "metadata": {
        "colab": {
          "base_uri": "https://localhost:8080/"
        },
        "id": "ipdVc0IhbvzR",
        "outputId": "04fef736-e741-41b6-eb1d-0dc7ae1fe59d"
      },
      "execution_count": null,
      "outputs": [
        {
          "output_type": "stream",
          "name": "stdout",
          "text": [
            "(1,2)\n",
            "1.4142135623730951\n",
            "3.605551275463989\n"
          ]
        }
      ]
    },
    {
      "cell_type": "code",
      "source": [
        "c=Point(int(input(\"Enter x: \")),int(input(\"enter y: \")))\n",
        "class Line:\n",
        "  def __init__(self,a,b,c):\n",
        "    self.a=a\n",
        "    self.b=b\n",
        "    self.c=c\n",
        "  def __str__(self):\n",
        "    return \"({}x+ {}y + {})\".format(self.a,self.b,self.c)\n",
        "  def point_on_line(self,c):\n",
        "    if self.a*c.x+self.b*c.y+self.c==0:\n",
        "      return \"point is on the line\"\n",
        "    else:\n",
        "      return \"point is not on the line\"\n",
        "  def point_dis_line(self,c):\n",
        "    d=abs(self.a*c.x + self.b*c.y + self.c)/math.sqrt((self.a**2)+(self.b**2))\n",
        "    return d\n",
        "l1=Line(int(input(\"Enter a: \")),int(input(\"enter b: \")),int(input(\"enter c: \")))\n",
        "\n",
        "print(l1.point_dis_line(c),'is the distance of point from line')\n",
        "print(l1.point_on_line(c))\n",
        "\n",
        "\n"
      ],
      "metadata": {
        "id": "ZKpSX0dDnEgL",
        "colab": {
          "base_uri": "https://localhost:8080/"
        },
        "outputId": "40d0ca47-ce66-486c-df34-8fb82c8505f3"
      },
      "execution_count": null,
      "outputs": [
        {
          "output_type": "stream",
          "name": "stdout",
          "text": [
            "Enter x: 1\n",
            "enter y: 1\n",
            "Enter a: 2\n",
            "enter b: 3\n",
            "enter c: 0\n",
            "1.386750490563073 is the distance of point from line\n",
            "point is not on the line\n"
          ]
        }
      ]
    },
    {
      "cell_type": "code",
      "source": [
        "class Person:\n",
        "  def __init__(self,name,country):\n",
        "    self.name=name\n",
        "    self.country=country\n",
        "  def display(self):\n",
        "    if self.country=='india':\n",
        "      return 'Namaste'\n",
        "    else :\n",
        "      return 'Hello'\n",
        "a=Person('dhiraj','india')\n",
        "a.display()"
      ],
      "metadata": {
        "id": "GffBnmjtGp9x",
        "colab": {
          "base_uri": "https://localhost:8080/",
          "height": 36
        },
        "outputId": "f93e6b43-f933-4073-99d1-042120edf171"
      },
      "execution_count": null,
      "outputs": [
        {
          "output_type": "execute_result",
          "data": {
            "text/plain": [
              "'Namaste'"
            ],
            "application/vnd.google.colaboratory.intrinsic+json": {
              "type": "string"
            }
          },
          "metadata": {},
          "execution_count": 10
        }
      ]
    },
    {
      "cell_type": "code",
      "source": [
        "a.age=20"
      ],
      "metadata": {
        "id": "arsK8f7UoopD"
      },
      "execution_count": null,
      "outputs": []
    },
    {
      "cell_type": "code",
      "source": [
        "a.age"
      ],
      "metadata": {
        "colab": {
          "base_uri": "https://localhost:8080/"
        },
        "id": "vhphFLu5_S73",
        "outputId": "7b27b552-1622-457a-8070-ef668f6445ae"
      },
      "execution_count": null,
      "outputs": [
        {
          "output_type": "execute_result",
          "data": {
            "text/plain": [
              "20"
            ]
          },
          "metadata": {},
          "execution_count": 13
        }
      ]
    },
    {
      "cell_type": "code",
      "source": [
        "# reference variable\n",
        "\n",
        "class Person:\n",
        "  def __init__(self,name,country):\n",
        "    self.name=name\n",
        "    self.country=country\n",
        "\n",
        "Person('sonu','india')\n",
        "p=Person('golu','india')\n",
        "q=p"
      ],
      "metadata": {
        "id": "xaS3PquD_VE7"
      },
      "execution_count": 1,
      "outputs": []
    },
    {
      "cell_type": "code",
      "source": [
        "print(id(p))\n",
        "print(id(q))\n",
        "# p is not actually object ,it is a reference variable ...having address of object"
      ],
      "metadata": {
        "colab": {
          "base_uri": "https://localhost:8080/"
        },
        "id": "sVsg-iFWAN7k",
        "outputId": "75cd4556-f326-45a9-b0e8-839c28044124"
      },
      "execution_count": 2,
      "outputs": [
        {
          "output_type": "stream",
          "name": "stdout",
          "text": [
            "140340522980960\n",
            "140340522980960\n"
          ]
        }
      ]
    },
    {
      "cell_type": "code",
      "source": [
        "print(p.name)\n",
        "print(q.name)"
      ],
      "metadata": {
        "colab": {
          "base_uri": "https://localhost:8080/"
        },
        "id": "N-AWTkJXAsMj",
        "outputId": "54beb6d2-b929-4330-ccc3-aaa6b70bff7f"
      },
      "execution_count": 3,
      "outputs": [
        {
          "output_type": "stream",
          "name": "stdout",
          "text": [
            "golu\n",
            "golu\n"
          ]
        }
      ]
    },
    {
      "cell_type": "code",
      "source": [
        "q.name='Dhiraj'\n",
        "print(p.name)\n",
        "print(q.name)"
      ],
      "metadata": {
        "colab": {
          "base_uri": "https://localhost:8080/"
        },
        "id": "n3w0LneeBC4p",
        "outputId": "16e4d0c0-292d-4525-b443-7101706dd0bb"
      },
      "execution_count": 4,
      "outputs": [
        {
          "output_type": "stream",
          "name": "stdout",
          "text": [
            "Dhiraj\n",
            "Dhiraj\n"
          ]
        }
      ]
    },
    {
      "cell_type": "code",
      "source": [
        "\n",
        "class Person:\n",
        "  def __init__(self,name,gender):\n",
        "    self.name=name\n",
        "    self.gender=gender\n",
        "\n",
        "#outside the class\n",
        "def greet(obj):\n",
        "  print('HI my name is',obj.name,'and my gender is',obj.gender)\n",
        "  p1=Person('sonu','male')\n",
        "  print(id(p1))\n",
        "  return p1\n",
        "p=Person('Dhiraj','21')\n",
        "x=greet(p)\n",
        "print(id(x))\n",
        "x.gender\n"
      ],
      "metadata": {
        "colab": {
          "base_uri": "https://localhost:8080/",
          "height": 88
        },
        "id": "mJdpb42wBTnf",
        "outputId": "f492f0f9-ea98-4e1e-bfba-cf44b68846cb"
      },
      "execution_count": 5,
      "outputs": [
        {
          "output_type": "stream",
          "name": "stdout",
          "text": [
            "HI my name is Dhiraj and my gender is 21\n",
            "140340535247152\n",
            "140340535247152\n"
          ]
        },
        {
          "output_type": "execute_result",
          "data": {
            "text/plain": [
              "'male'"
            ],
            "application/vnd.google.colaboratory.intrinsic+json": {
              "type": "string"
            }
          },
          "metadata": {},
          "execution_count": 5
        }
      ]
    },
    {
      "cell_type": "code",
      "source": [
        "# Object ki mutability\n",
        "\n",
        "class Person:\n",
        "  def __init__(self,name,gender):\n",
        "    self.name=name\n",
        "    self.gender=gender\n",
        "\n",
        "#outside the class\n",
        "def greet(obj):\n",
        "  obj.name='sonu'\n",
        "  return obj\n",
        "\n",
        "\n",
        "p=Person('Dhiraj','21')\n",
        "print(id(p))\n",
        "p1=greet(p)\n",
        "print(id(p1))\n",
        "\n",
        "\n",
        "\n"
      ],
      "metadata": {
        "colab": {
          "base_uri": "https://localhost:8080/"
        },
        "id": "KJq8lyuPDU4g",
        "outputId": "c1873ce9-9c8d-47ca-b6ce-b9ad24c71454"
      },
      "execution_count": 8,
      "outputs": [
        {
          "output_type": "stream",
          "name": "stdout",
          "text": [
            "140340046081872\n",
            "140340046081872\n"
          ]
        }
      ]
    },
    {
      "cell_type": "code",
      "source": [
        "# instance variable\n",
        "class Person:\n",
        "  def __init__(self,name,gender):\n",
        "    self.name=name\n",
        "    self.gender=gender\n",
        "\n",
        "p1=Person('golu','male')\n",
        "p2=Person('sonu','male')\n",
        "print(p1.name)\n",
        "print(p2.name)\n",
        "#depending upon the object the va;ue of variable is diff"
      ],
      "metadata": {
        "id": "f_1yUaoIggrK",
        "colab": {
          "base_uri": "https://localhost:8080/"
        },
        "outputId": "943b0f34-890d-4a9a-8690-d13542ec046e"
      },
      "execution_count": 9,
      "outputs": [
        {
          "output_type": "stream",
          "name": "stdout",
          "text": [
            "golu\n",
            "sonu\n"
          ]
        }
      ]
    },
    {
      "cell_type": "code",
      "source": [
        "# Getter and setter\n",
        "class Atm:\n",
        "    def __init__(self):\n",
        "        self.pin=''\n",
        "        self.__balence=0\n",
        "        self.menu()\n",
        "\n",
        "    def get_balence(self):\n",
        "      return self.__balence\n",
        "\n",
        "    def set_balence(self,new):\n",
        "      if type(new)==int:\n",
        "        self.__balence=new\n",
        "      else:\n",
        "        print(\"Nikal bhai tu\")\n",
        "\n",
        "    def menu(self):\n",
        "        user_input=input(\"\"\"\n",
        "        1.Press 1 to create pin\n",
        "        2.press 2 to change pin\n",
        "        3.press 3 to check balence\n",
        "        4.press 4 to withdraw\n",
        "        5.Anything else to exit\n",
        "        \"\"\")\n",
        "        if user_input=='1':\n",
        "            self.create_pin()#create pin\n",
        "        elif user_input=='2':\n",
        "            self.change_pin()#change pin\n",
        "        elif user_input=='3':\n",
        "            self.check_balence()#check balance\n",
        "        elif user_input=='4':\n",
        "            self.withdraw()# withdraw\n",
        "        else:\n",
        "            exit()\n",
        "\n",
        "    def create_pin(self):\n",
        "        user_pin=input(\"Create your pin\")\n",
        "        self.pin=user_pin\n",
        "        user_balence=input('Your balence')\n",
        "        self.balence=user_balence\n",
        "        print('Pin created successfully')\n",
        "        self.menu()\n",
        "\n",
        "\n",
        "    def change_pin(self):\n",
        "        old_pin=input('Enter your old pin: ')\n",
        "        if old_pin==self.pin:\n",
        "            self.pin=input(\"Enter your new pin\")\n",
        "            print(\"your pin succesfully changed\")\n",
        "            self.menu()\n",
        "        else :\n",
        "            print(\"nahi honga bhai\")\n",
        "            self.menu()\n",
        "\n",
        "    def check_balence(self):\n",
        "      pinn=input(\"Enter your pin: \")\n",
        "      if pinn==self.pin:\n",
        "        print('your balece is: ',self.balence)\n",
        "        self.menu()\n",
        "      else:\n",
        "        print(\"Galat pin hain bhaiii\")\n",
        "\n",
        "    def withdraw(self):\n",
        "      pinn=input(\"Enter your pin: \")\n",
        "      if pinn==self.pin:\n",
        "         withdraw_ammount=int(input(\"how much amount to withdraw: \"))\n",
        "         if int(self.balence) >= withdraw_ammount:\n",
        "             int(self.balence)==int(self.balence)-int(withdraw_ammount)\n",
        "             print('current balence is: ',int(self.balence)-(withdraw_ammount))\n",
        "             self.menu()\n",
        "         else:\n",
        "            print('exceed amount')\n",
        "            self.menu()\n",
        "      else:\n",
        "        print(\"Galat pin hain bhaiii\")\n",
        "\n",
        "\n",
        "\n",
        "\n"
      ],
      "metadata": {
        "id": "g9KDcrbS-F6B"
      },
      "execution_count": 2,
      "outputs": []
    },
    {
      "cell_type": "code",
      "source": [
        "a=Atm()\n",
        "a.get_balence()\n",
        "a.set_balence(1000)\n",
        "print(a.get_balence())\n",
        "a.set_balence('Hehehe')"
      ],
      "metadata": {
        "colab": {
          "base_uri": "https://localhost:8080/"
        },
        "id": "4KZcA00nE9OF",
        "outputId": "fb48c8cc-8db7-4cbf-f05b-28ff77d573f3"
      },
      "execution_count": 3,
      "outputs": [
        {
          "output_type": "stream",
          "name": "stdout",
          "text": [
            "\n",
            "        1.Press 1 to create pin\n",
            "        2.press 2 to change pin\n",
            "        3.press 3 to check balence\n",
            "        4.press 4 to withdraw\n",
            "        5.Anything else to exit\n",
            "        1\n",
            "Create your pin123\n",
            "Your balence2000\n",
            "Pin created successfully\n",
            "\n",
            "        1.Press 1 to create pin\n",
            "        2.press 2 to change pin\n",
            "        3.press 3 to check balence\n",
            "        4.press 4 to withdraw\n",
            "        5.Anything else to exit\n",
            "        5\n",
            "1000\n",
            "Nikal bhai tu\n"
          ]
        }
      ]
    },
    {
      "cell_type": "code",
      "source": [
        "# list of objects\n",
        "class Person:\n",
        "  def __init__(self,name,gender):\n",
        "    self.name=name\n",
        "    self.gender=gender\n",
        "\n",
        "p1=Person('Dhiraj','male')\n",
        "p2=Person('golu','male')\n",
        "p3=Person('simran','female')\n",
        "\n",
        "l=[p1,p2,p3]\n",
        "print(l)"
      ],
      "metadata": {
        "colab": {
          "base_uri": "https://localhost:8080/"
        },
        "id": "Of964lMBFxDB",
        "outputId": "ba8845e5-a6fc-4507-beaa-38d6f5afe2bb"
      },
      "execution_count": 2,
      "outputs": [
        {
          "output_type": "stream",
          "name": "stdout",
          "text": [
            "[<__main__.Person object at 0x7ed5c52ede40>, <__main__.Person object at 0x7ed5c52edb70>, <__main__.Person object at 0x7ed5c52ecd60>]\n"
          ]
        }
      ]
    },
    {
      "cell_type": "code",
      "source": [
        "for i in l:\n",
        "  print(i)"
      ],
      "metadata": {
        "colab": {
          "base_uri": "https://localhost:8080/"
        },
        "id": "bsJ0IAmqI7t2",
        "outputId": "8558f5a4-b7d5-4ac8-f57d-7289c96e2eec"
      },
      "execution_count": 3,
      "outputs": [
        {
          "output_type": "stream",
          "name": "stdout",
          "text": [
            "<__main__.Person object at 0x7ed5c52ede40>\n",
            "<__main__.Person object at 0x7ed5c52edb70>\n",
            "<__main__.Person object at 0x7ed5c52ecd60>\n"
          ]
        }
      ]
    },
    {
      "cell_type": "code",
      "source": [
        "for i in l:\n",
        "  print(i.name)"
      ],
      "metadata": {
        "colab": {
          "base_uri": "https://localhost:8080/"
        },
        "id": "V3ATKxn1JCtI",
        "outputId": "0eed6b6f-ed33-41e4-b0dd-5fcb9d66ea0f"
      },
      "execution_count": 4,
      "outputs": [
        {
          "output_type": "stream",
          "name": "stdout",
          "text": [
            "Dhiraj\n",
            "golu\n",
            "simran\n"
          ]
        }
      ]
    },
    {
      "cell_type": "code",
      "source": [
        "# instance variable kar obj ke liye alag hpta hain, static har obj ke same hota hain..\n",
        "# static variable class ka hota hain,instance variable obj ka hota hain"
      ],
      "metadata": {
        "id": "JOHFE_ehJHzD"
      },
      "execution_count": null,
      "outputs": []
    },
    {
      "cell_type": "code",
      "source": [
        "class Person:\n",
        "  counter=1\n",
        "  def __init__(self,name,gender):\n",
        "    self.name=name\n",
        "    self.gender=gender\n",
        "    self.id=Person.counter\n",
        "    Person.counter+=1\n",
        "\n",
        "p1=Person('Dhiraj','male')\n",
        "p2=Person('golu','male')\n",
        "p3=Person('simran','female')\n"
      ],
      "metadata": {
        "id": "gBTF8bKILgzz"
      },
      "execution_count": 5,
      "outputs": []
    },
    {
      "cell_type": "code",
      "source": [
        "p1.id"
      ],
      "metadata": {
        "colab": {
          "base_uri": "https://localhost:8080/"
        },
        "id": "od1_YmEHMD3s",
        "outputId": "bbd2b6e0-a5c7-4cb4-8549-4d8c8e881092"
      },
      "execution_count": 6,
      "outputs": [
        {
          "output_type": "execute_result",
          "data": {
            "text/plain": [
              "1"
            ]
          },
          "metadata": {},
          "execution_count": 6
        }
      ]
    },
    {
      "cell_type": "code",
      "source": [
        "p2.id"
      ],
      "metadata": {
        "colab": {
          "base_uri": "https://localhost:8080/"
        },
        "id": "ZLOIs_eQMIQ4",
        "outputId": "a6e895e1-bbb6-416b-a59c-2809e64ba998"
      },
      "execution_count": 7,
      "outputs": [
        {
          "output_type": "execute_result",
          "data": {
            "text/plain": [
              "2"
            ]
          },
          "metadata": {},
          "execution_count": 7
        }
      ]
    },
    {
      "cell_type": "code",
      "source": [
        "p3.id"
      ],
      "metadata": {
        "colab": {
          "base_uri": "https://localhost:8080/"
        },
        "id": "y-It3VWDMKUt",
        "outputId": "58e6c07b-b89c-4be6-caae-9e9f905b9e93"
      },
      "execution_count": 8,
      "outputs": [
        {
          "output_type": "execute_result",
          "data": {
            "text/plain": [
              "3"
            ]
          },
          "metadata": {},
          "execution_count": 8
        }
      ]
    },
    {
      "cell_type": "code",
      "source": [
        "Person.counter"
      ],
      "metadata": {
        "colab": {
          "base_uri": "https://localhost:8080/"
        },
        "id": "JnaWqEVJMODu",
        "outputId": "c10cb6fb-b3a4-46fc-b86d-909bcfe4b5ea"
      },
      "execution_count": 9,
      "outputs": [
        {
          "output_type": "execute_result",
          "data": {
            "text/plain": [
              "4"
            ]
          },
          "metadata": {},
          "execution_count": 9
        }
      ]
    },
    {
      "cell_type": "code",
      "source": [
        "class Person:\n",
        "  __counter=1\n",
        "  def __init__(self,name,gender):\n",
        "    self.name=name\n",
        "    self.gender=gender\n",
        "    self.id=Person.__counter\n",
        "    Person.__counter+=1\n",
        "  @staticmethod  #utility\n",
        "  def get_counter():\n",
        "    return Person.__counter\n",
        "\n",
        "p1=Person('Dhiraj','male')\n",
        "p2=Person('golu','male')\n",
        "p3=Person('simran','female')\n"
      ],
      "metadata": {
        "id": "E9o0vkh4M_nO"
      },
      "execution_count": 14,
      "outputs": []
    },
    {
      "cell_type": "code",
      "source": [
        "Person.get_counter()"
      ],
      "metadata": {
        "colab": {
          "base_uri": "https://localhost:8080/"
        },
        "id": "zHaz6XcMam6k",
        "outputId": "a3d6fa49-f0ff-4b6d-a0ad-72eb50dd7c29"
      },
      "execution_count": 15,
      "outputs": [
        {
          "output_type": "execute_result",
          "data": {
            "text/plain": [
              "4"
            ]
          },
          "metadata": {},
          "execution_count": 15
        }
      ]
    }
  ]
}