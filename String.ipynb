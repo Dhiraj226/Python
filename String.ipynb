{
  "cells": [
    {
      "cell_type": "code",
      "execution_count": null,
      "metadata": {
        "id": "xwXXdHGjUCj_"
      },
      "outputs": [],
      "source": [
        "#String\n",
        "'''creating\n",
        "accessing\n",
        "adding\n",
        "editing\n",
        "Deleting\n",
        "Operations\n",
        "strings Functions'''"
      ]
    },
    {
      "cell_type": "code",
      "execution_count": null,
      "metadata": {
        "id": "d8zzy5NqUCkE"
      },
      "outputs": [],
      "source": [
        "s='Dhiraj'\n",
        "s=\"Dhiraj\"\n",
        "#for multiline string\n",
        "s='''Dhiraj'''"
      ]
    },
    {
      "cell_type": "code",
      "execution_count": null,
      "metadata": {
        "id": "Jtp5VLRgUCkG",
        "outputId": "684c7c53-aee6-45e9-cdf2-7ec439cd24e2"
      },
      "outputs": [
        {
          "name": "stdout",
          "output_type": "stream",
          "text": [
            "it's raining outside\n"
          ]
        }
      ],
      "source": [
        "print(\"it's raining outside\")"
      ]
    },
    {
      "cell_type": "code",
      "execution_count": null,
      "metadata": {
        "id": "eT-OGZIRUCkJ",
        "outputId": "668e0fdf-e1f4-40d8-c0ea-7a263312ef07"
      },
      "outputs": [
        {
          "name": "stdout",
          "output_type": "stream",
          "text": [
            "123\n"
          ]
        }
      ],
      "source": [
        "a=123\n",
        "a=str(a)\n",
        "print(a)"
      ]
    },
    {
      "cell_type": "code",
      "execution_count": null,
      "metadata": {
        "id": "H0M1ggsYUCkL",
        "outputId": "06db3ae6-196e-46e6-fee6-57e9400160b9"
      },
      "outputs": [
        {
          "name": "stdout",
          "output_type": "stream",
          "text": [
            "H\n",
            "W\n"
          ]
        }
      ],
      "source": [
        "#indexing\n",
        "s=\"Hello Wolrd\"\n",
        "print(s[0])\n",
        "print(s[-5])"
      ]
    },
    {
      "cell_type": "code",
      "execution_count": null,
      "metadata": {
        "id": "JlSSQzmTUCkM",
        "outputId": "59aa087a-8736-49b3-867d-94291c0052ac"
      },
      "outputs": [
        {
          "name": "stdout",
          "output_type": "stream",
          "text": [
            "Hello\n",
            "Hello Wolrd\n",
            "Hello\n",
            "llo Wolrd\n",
            "Hlo\n"
          ]
        }
      ],
      "source": [
        "# slicing\n",
        "print(s[0:5])\n",
        "print(s[:])\n",
        "print(s[:5])\n",
        "print(s[2:])\n",
        "print(s[0:6:2])"
      ]
    },
    {
      "cell_type": "code",
      "execution_count": null,
      "metadata": {
        "id": "dM1lYfhgUCkN",
        "outputId": "c41b8004-41a4-47d3-b4c6-948bd34b3b45"
      },
      "outputs": [
        {
          "name": "stdout",
          "output_type": "stream",
          "text": [
            "drloW olleH\n"
          ]
        }
      ],
      "source": [
        "#for reversing the string\n",
        "print(s[::-1])"
      ]
    },
    {
      "cell_type": "code",
      "execution_count": null,
      "metadata": {
        "id": "LV39n9Q8UCkO"
      },
      "outputs": [],
      "source": [
        "#python strings are immutable\n"
      ]
    },
    {
      "cell_type": "code",
      "execution_count": null,
      "metadata": {
        "id": "hK_ndzueUCkP"
      },
      "outputs": [],
      "source": [
        "del s\n"
      ]
    },
    {
      "cell_type": "code",
      "execution_count": null,
      "metadata": {
        "id": "DZ7WYlQ-UCkQ",
        "outputId": "a69b7d0b-da57-4ffd-ed4a-8ed745302edf"
      },
      "outputs": [
        {
          "name": "stdout",
          "output_type": "stream",
          "text": [
            "Delhi to Mumbai\n"
          ]
        }
      ],
      "source": [
        "print(\"Delhi\" + \"\n",
        "      to Mumbai\")\n"
      ]
    },
    {
      "cell_type": "code",
      "execution_count": null,
      "metadata": {
        "id": "yDW1jmGHUCkR",
        "outputId": "4e9e92ec-fc03-4bae-afde-d42bdb953b5f"
      },
      "outputs": [
        {
          "name": "stdout",
          "output_type": "stream",
          "text": [
            "mumbaimumbaimumbaimumbaimumbai\n"
          ]
        }
      ],
      "source": [
        "print(\"mumbai\"*5)"
      ]
    },
    {
      "cell_type": "code",
      "execution_count": null,
      "metadata": {
        "id": "RwDbQVFlUCkS",
        "outputId": "3231541b-cb01-4da5-e986-16c432e315ac"
      },
      "outputs": [
        {
          "data": {
            "text/plain": [
              "False"
            ]
          },
          "execution_count": 42,
          "metadata": {},
          "output_type": "execute_result"
        }
      ],
      "source": [
        "'mumbai' > 'pune'\n",
        "# because of ascci values"
      ]
    },
    {
      "cell_type": "code",
      "execution_count": null,
      "metadata": {
        "id": "jQ0pRHlhUCkU",
        "outputId": "4ebfd0ca-8d6c-4b4c-8fd9-6801e53f31c7"
      },
      "outputs": [
        {
          "data": {
            "text/plain": [
              "'world'"
            ]
          },
          "execution_count": 43,
          "metadata": {},
          "output_type": "execute_result"
        }
      ],
      "source": [
        "'Hello' and 'world'"
      ]
    },
    {
      "cell_type": "code",
      "execution_count": null,
      "metadata": {
        "id": "TSAZnNmJUCkV",
        "outputId": "77a59c91-998a-456e-dedd-a4a8f3d440d9"
      },
      "outputs": [
        {
          "data": {
            "text/plain": [
              "'hello'"
            ]
          },
          "execution_count": 44,
          "metadata": {},
          "output_type": "execute_result"
        }
      ],
      "source": [
        "'hello' or 'world'"
      ]
    },
    {
      "cell_type": "code",
      "execution_count": null,
      "metadata": {
        "id": "EWd6KHjNUCkW",
        "outputId": "af38a8dd-c7ff-46f3-fec0-04c0b3546415"
      },
      "outputs": [
        {
          "data": {
            "text/plain": [
              "True"
            ]
          },
          "execution_count": 45,
          "metadata": {},
          "output_type": "execute_result"
        }
      ],
      "source": [
        "not \"\""
      ]
    },
    {
      "cell_type": "code",
      "execution_count": null,
      "metadata": {
        "id": "6Zv283BLUCkX",
        "outputId": "88f3f183-334e-4896-a121-b2784fdc8a92"
      },
      "outputs": [
        {
          "data": {
            "text/plain": [
              "False"
            ]
          },
          "execution_count": 46,
          "metadata": {},
          "output_type": "execute_result"
        }
      ],
      "source": [
        "not \"Hello\""
      ]
    },
    {
      "cell_type": "code",
      "execution_count": null,
      "metadata": {
        "id": "XoZd5mQJUCkY"
      },
      "outputs": [],
      "source": [
        "# if empty string ---> False\n",
        "# character in string--->True"
      ]
    },
    {
      "cell_type": "code",
      "execution_count": null,
      "metadata": {
        "id": "tJlS863PUCkZ",
        "outputId": "f4c7c88a-13e7-4e04-d607-cfa2a699260b"
      },
      "outputs": [
        {
          "name": "stdout",
          "output_type": "stream",
          "text": [
            "pune\n",
            "pune\n",
            "pune\n",
            "pune\n",
            "pune\n"
          ]
        }
      ],
      "source": [
        "for i in \"hello\":\n",
        "    print('pune')"
      ]
    },
    {
      "cell_type": "code",
      "execution_count": null,
      "metadata": {
        "id": "LlwwHZjkUCkZ",
        "outputId": "56637235-ae63-4982-f66e-4106b32bd2ef"
      },
      "outputs": [
        {
          "data": {
            "text/plain": [
              "True"
            ]
          },
          "execution_count": 50,
          "metadata": {},
          "output_type": "execute_result"
        }
      ],
      "source": [
        "'D' in \"Delhi\""
      ]
    },
    {
      "cell_type": "code",
      "execution_count": null,
      "metadata": {
        "id": "gWXsvFuTUCka",
        "outputId": "623e0f28-c429-4358-9033-d4a54ad7b775"
      },
      "outputs": [
        {
          "name": "stdout",
          "output_type": "stream",
          "text": [
            "13\n",
            "v\n",
            " \n",
            "[' ', 'D', 'a', 'a', 'g', 'h', 'i', 'i', 'j', 'o', 'r', 's', 'v']\n",
            "['v', 's', 'r', 'o', 'j', 'i', 'i', 'h', 'g', 'a', 'a', 'D', ' ']\n"
          ]
        }
      ],
      "source": [
        "#common Function\n",
        "s=\"Dhiraj gosvai\"\n",
        "print(len(s))\n",
        "print(max(s))\n",
        "print(min(s))\n",
        "print(sorted(s))\n",
        "print(sorted(s,reverse=True))"
      ]
    },
    {
      "cell_type": "code",
      "execution_count": null,
      "metadata": {
        "id": "5y2idoCoUCkb",
        "outputId": "4204808a-2b30-4454-869c-dde92cf45b9c"
      },
      "outputs": [
        {
          "name": "stdout",
          "output_type": "stream",
          "text": [
            "Dhiraj gosvai\n",
            "Dhiraj Gosvai\n",
            "DHIRAJ GOSVAI\n",
            "dhiraj gosvai\n",
            "dHIRAJ GOSVAI\n"
          ]
        }
      ],
      "source": [
        "# fun specific to strings\n",
        "\n",
        "print(s.capitalize())\n",
        "print(s.title())\n",
        "print(s.upper())\n",
        "print(s.lower())\n",
        "print(s.swapcase())"
      ]
    },
    {
      "cell_type": "code",
      "execution_count": null,
      "metadata": {
        "id": "v6OCF6YOUCkb",
        "outputId": "6b1b9f32-ba75-4d0f-943d-bf00f36ce054"
      },
      "outputs": [
        {
          "name": "stdout",
          "output_type": "stream",
          "text": [
            "2\n"
          ]
        }
      ],
      "source": [
        "#count\n",
        "n=\"I'm new here and my name is Dhiraj\"\n",
        "print(n.count('i'))\n"
      ]
    },
    {
      "cell_type": "code",
      "execution_count": null,
      "metadata": {
        "id": "EXXdJ2hkUCkc",
        "outputId": "d79e0b4e-50a3-423b-bbd3-5bef58ed4db1"
      },
      "outputs": [
        {
          "name": "stdout",
          "output_type": "stream",
          "text": [
            "-1\n"
          ]
        }
      ],
      "source": [
        "#find\n",
        "print(n.find('L'))"
      ]
    },
    {
      "cell_type": "code",
      "execution_count": null,
      "metadata": {
        "id": "y-YQiUDMUCkd",
        "outputId": "d5a1a65a-9532-452c-aa19-9900ea75ba86"
      },
      "outputs": [
        {
          "name": "stdout",
          "output_type": "stream",
          "text": [
            "33\n"
          ]
        }
      ],
      "source": [
        "#index\n",
        "print(n.index('j'))"
      ]
    },
    {
      "cell_type": "code",
      "execution_count": null,
      "metadata": {
        "id": "9x1z679hUCkd",
        "outputId": "7c1bc839-87ec-443c-b212-e2d947747487"
      },
      "outputs": [
        {
          "data": {
            "text/plain": [
              "True"
            ]
          },
          "execution_count": 91,
          "metadata": {},
          "output_type": "execute_result"
        }
      ],
      "source": [
        "#end with\n",
        "n.endswith(\"aj\")"
      ]
    },
    {
      "cell_type": "code",
      "execution_count": null,
      "metadata": {
        "id": "oka0mn8RUCke",
        "outputId": "d0d81fbe-f5d8-4cb4-9de6-a4a8be04a245"
      },
      "outputs": [
        {
          "data": {
            "text/plain": [
              "False"
            ]
          },
          "execution_count": 85,
          "metadata": {},
          "output_type": "execute_result"
        }
      ],
      "source": [
        "n.startswith(\"i\")"
      ]
    },
    {
      "cell_type": "code",
      "execution_count": null,
      "metadata": {
        "id": "mABINCNiUCkf",
        "outputId": "c42a9710-5bbc-4ff1-f476-e9bf1d856b16"
      },
      "outputs": [
        {
          "data": {
            "text/plain": [
              "'HI my name is Dhiraj and i m Male'"
            ]
          },
          "execution_count": 87,
          "metadata": {},
          "output_type": "execute_result"
        }
      ],
      "source": [
        "# format\n",
        "name=\"Dhiraj\"\n",
        "gender=\"Male\"\n",
        "\"HI my name is {} and i m {}\".format(name,gender)"
      ]
    },
    {
      "cell_type": "code",
      "execution_count": null,
      "metadata": {
        "id": "lMvGL4DnUCkg",
        "outputId": "93e709b0-4576-4000-b1ab-6917b9278996"
      },
      "outputs": [
        {
          "data": {
            "text/plain": [
              "True"
            ]
          },
          "execution_count": 92,
          "metadata": {},
          "output_type": "execute_result"
        }
      ],
      "source": [
        "# To chech whether string contain alphebhet+numeric\n",
        "\"Dhiraj123\".isalnum()"
      ]
    },
    {
      "cell_type": "code",
      "execution_count": null,
      "metadata": {
        "id": "hbAQcVX6UCkh",
        "outputId": "5c7a0d5e-f445-4e8a-8867-86ec490799d5"
      },
      "outputs": [
        {
          "data": {
            "text/plain": [
              "True"
            ]
          },
          "execution_count": 93,
          "metadata": {},
          "output_type": "execute_result"
        }
      ],
      "source": [
        "# To chechk alphabhet\n",
        "\"dhiraj\".isalpha()"
      ]
    },
    {
      "cell_type": "code",
      "execution_count": null,
      "metadata": {
        "id": "n9ypWKKmUCkh",
        "outputId": "dca12b9e-1ae2-40f1-fec7-5e21d318e33c"
      },
      "outputs": [
        {
          "data": {
            "text/plain": [
              "True"
            ]
          },
          "execution_count": 94,
          "metadata": {},
          "output_type": "execute_result"
        }
      ],
      "source": [
        "#to check digit\n",
        "\"1230\".isdigit()"
      ]
    },
    {
      "cell_type": "code",
      "execution_count": null,
      "metadata": {
        "id": "LQ-7jnZSUCki",
        "outputId": "c8f07f64-95ec-4702-924f-fb42b51611d5"
      },
      "outputs": [
        {
          "data": {
            "text/plain": [
              "True"
            ]
          },
          "execution_count": 95,
          "metadata": {},
          "output_type": "execute_result"
        }
      ],
      "source": [
        "'name1'.isidentifier()"
      ]
    },
    {
      "cell_type": "code",
      "execution_count": null,
      "metadata": {
        "id": "uucC_cojUCki",
        "outputId": "dd2df9ca-dc93-45c6-ffa6-e48501d79f06"
      },
      "outputs": [
        {
          "data": {
            "text/plain": [
              "['My', 'name', 'is', 'Dhiraj']"
            ]
          },
          "execution_count": 96,
          "metadata": {},
          "output_type": "execute_result"
        }
      ],
      "source": [
        "# split\n",
        "\"My name is Dhiraj\".split()"
      ]
    },
    {
      "cell_type": "code",
      "execution_count": null,
      "metadata": {
        "id": "Siq5JL6tUCkj",
        "outputId": "6f93a55f-34db-4e81-cac3-1f14ef7fcadd"
      },
      "outputs": [
        {
          "data": {
            "text/plain": [
              "['My name ', ' Dhiraj']"
            ]
          },
          "execution_count": 97,
          "metadata": {},
          "output_type": "execute_result"
        }
      ],
      "source": [
        "\"My name is Dhiraj\".split('is')"
      ]
    },
    {
      "cell_type": "code",
      "execution_count": null,
      "metadata": {
        "id": "A4QgTVpGUCkk",
        "outputId": "eb7321b5-a502-4e90-888c-4d774e6810eb"
      },
      "outputs": [
        {
          "data": {
            "text/plain": [
              "'My name is Dhiraj'"
            ]
          },
          "execution_count": 98,
          "metadata": {},
          "output_type": "execute_result"
        }
      ],
      "source": [
        "#join\n",
        "\" \".join(['My', 'name', 'is', 'Dhiraj'])"
      ]
    },
    {
      "cell_type": "code",
      "execution_count": null,
      "metadata": {
        "id": "RnTF_vwIUCkl",
        "outputId": "91900764-8d89-4f18-e263-1dae3a3061ac"
      },
      "outputs": [
        {
          "data": {
            "text/plain": [
              "'My name is Rizwan'"
            ]
          },
          "execution_count": 99,
          "metadata": {},
          "output_type": "execute_result"
        }
      ],
      "source": [
        "# Replace\n",
        "\"My name is Dhiraj\".replace('Dhiraj','Rizwan')"
      ]
    },
    {
      "cell_type": "code",
      "execution_count": null,
      "metadata": {
        "id": "KGYgO77HUCkm",
        "outputId": "67b700b6-a12f-4e4b-e581-503a4a2fed1b"
      },
      "outputs": [
        {
          "data": {
            "text/plain": [
              "'Dhiraj'"
            ]
          },
          "execution_count": 100,
          "metadata": {},
          "output_type": "execute_result"
        }
      ],
      "source": [
        "# Strip\n",
        "\"Dhiraj     \".strip()"
      ]
    },
    {
      "cell_type": "code",
      "execution_count": null,
      "metadata": {
        "id": "K9-WqR9EUCkn",
        "outputId": "6b4d1929-17f2-4882-a538-01fa6d40b9b3"
      },
      "outputs": [
        {
          "name": "stdout",
          "output_type": "stream",
          "text": [
            "6\n"
          ]
        }
      ],
      "source": [
        "# length of the string without len function\n",
        "a='Dhiraj'\n",
        "count=0\n",
        "for i in 'Dhiraj':\n",
        "    count=count+1\n",
        "print(count)\n",
        "\n",
        ""
      ]
    },
    {
      "cell_type": "code",
      "execution_count": null,
      "metadata": {
        "id": "1Vizj-OrUCkn",
        "outputId": "a90fc543-9206-4cad-ae58-c8e504d2671b"
      },
      "outputs": [
        {
          "name": "stdout",
          "output_type": "stream",
          "text": [
            "Enter the mail: jcfjyf@\n",
            "jcfjyf\n"
          ]
        }
      ],
      "source": [
        "mail=input(\"Enter the mail: \")\n",
        "a=mail.find('@')\n",
        "username=mail[:a]\n",
        "print(username)"
      ]
    },
    {
      "cell_type": "code",
      "execution_count": null,
      "metadata": {
        "id": "53BvJny0UCko",
        "outputId": "e42a2236-2c5b-443b-cb62-1a57b766090c"
      },
      "outputs": [
        {
          "name": "stdout",
          "output_type": "stream",
          "text": [
            "Enter the String: dhiraj\n",
            "Enter the Char: d\n"
          ]
        },
        {
          "data": {
            "text/plain": [
              "0"
            ]
          },
          "execution_count": 133,
          "metadata": {},
          "output_type": "execute_result"
        }
      ],
      "source": [
        "string=input(\"Enter the String: \")\n",
        "char=input(\"Enter the Char: \")\n",
        "string.find(char)"
      ]
    },
    {
      "cell_type": "code",
      "execution_count": null,
      "metadata": {
        "id": "xx8y6xqBUCk9",
        "outputId": "d4ac5984-8b2f-4b2d-d3ac-ca876da05aff"
      },
      "outputs": [
        {
          "name": "stdout",
          "output_type": "stream",
          "text": [
            "Enter the String: radar\n",
            "radar\n",
            "radar is a palindrome\n"
          ]
        }
      ],
      "source": [
        "# string is palindrome or not\n",
        "string=input(\"Enter the String: \")\n",
        "new_string=''\n",
        "for i in string:\n",
        "    new_string=i+new_string\n",
        "print(new_string)\n",
        "if string==new_string:\n",
        "    print(string,'is a palindrome')\n",
        "else:\n",
        "    print('not')\n",
        "\n",
        "\n"
      ]
    },
    {
      "cell_type": "code",
      "execution_count": 1,
      "metadata": {
        "colab": {
          "base_uri": "https://localhost:8080/"
        },
        "id": "g6Ctuv0fUCk-",
        "outputId": "b76c2952-42b3-484b-fdda-b6693e6a137f"
      },
      "outputs": [
        {
          "output_type": "stream",
          "name": "stdout",
          "text": [
            "Enter the String: Dhiraj Gosavi\n",
            "12\n"
          ]
        }
      ],
      "source": [
        "# to count no. of char in string\n",
        "string=input(\"Enter the String: \")\n",
        "count=0\n",
        "for i in string:\n",
        "    if i!=' ':\n",
        "        count=count+1\n",
        "print(count)\n",
        "\n",
        ""
      ]
    },
    {
      "cell_type": "code",
      "execution_count": 14,
      "metadata": {
        "colab": {
          "base_uri": "https://localhost:8080/"
        },
        "id": "surjrhvkUClA",
        "outputId": "4f0b5ae9-ab0c-451e-9c4d-cbbc157e11a4"
      },
      "outputs": [
        {
          "output_type": "stream",
          "name": "stdout",
          "text": [
            "Enter the String: my name is dhiraj\n",
            " My Name Is Dhiraj \n"
          ]
        }
      ],
      "source": [
        "#without using title()\n",
        "string=input(\"Enter the String: \")\n",
        "l=string.split(' ')\n",
        "new=' '\n",
        "for i in l:\n",
        "    new=new+i.capitalize()+' '\n",
        "print(new)"
      ]
    }
  ],
  "metadata": {
    "kernelspec": {
      "display_name": "Python 3",
      "language": "python",
      "name": "python3"
    },
    "language_info": {
      "codemirror_mode": {
        "name": "ipython",
        "version": 3
      },
      "file_extension": ".py",
      "mimetype": "text/x-python",
      "name": "python",
      "nbconvert_exporter": "python",
      "pygments_lexer": "ipython3",
      "version": "3.6.5"
    },
    "colab": {
      "provenance": []
    }
  },
  "nbformat": 4,
  "nbformat_minor": 0
}