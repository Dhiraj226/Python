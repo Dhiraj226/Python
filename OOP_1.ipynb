{
  "nbformat": 4,
  "nbformat_minor": 0,
  "metadata": {
    "colab": {
      "provenance": []
    },
    "kernelspec": {
      "name": "python3",
      "display_name": "Python 3"
    },
    "language_info": {
      "name": "python"
    }
  },
  "cells": [
    {
      "cell_type": "markdown",
      "source": [],
      "metadata": {
        "id": "Dx-P8NHKVyKm"
      }
    },
    {
      "cell_type": "code",
      "source": [
        "#objectname=classname()\n",
        "# there are two classes in python 1.build in 2.user defined"
      ],
      "metadata": {
        "id": "VbYiC5-tM-9c"
      },
      "execution_count": 6,
      "outputs": []
    },
    {
      "cell_type": "code",
      "source": [
        "# class andar variable banane hain toh contructor use honga and and name ke aage self. use honga\n",
        "class Atm:\n",
        "    def __init__(self):\n",
        "        self.pin=''\n",
        "        self.balence=0\n",
        "        self.menu()\n",
        "\n",
        "    def menu(self):\n",
        "        user_input=input(\"\"\"\n",
        "        1.Press 1 to create pin\n",
        "        2.press 2 to change pin\n",
        "        3.press 3 to check balence\n",
        "        4.press 4 to withdraw\n",
        "        5.Anything else to exit\n",
        "        \"\"\")\n",
        "        if user_input=='1':\n",
        "            self.create_pin()#create pin\n",
        "        elif user_input=='2':\n",
        "            self.change_pin()#change pin\n",
        "        elif user_input=='3':\n",
        "            self.check_balence()#check balance\n",
        "        elif user_input=='4':\n",
        "            self.withdraw()# withdraw\n",
        "        else:\n",
        "            exit()\n",
        "\n",
        "    def create_pin(self):\n",
        "        user_pin=input(\"Create your pin\")\n",
        "        self.pin=user_pin\n",
        "        user_balence=input('Your balence')\n",
        "        self.balence=user_balence\n",
        "        print('Pin created successfully')\n",
        "        self.menu()\n",
        "\n",
        "\n",
        "    def change_pin(self):\n",
        "        old_pin=input('Enter your old pin: ')\n",
        "        if old_pin==self.pin:\n",
        "            self.pin=input(\"Enter your new pin\")\n",
        "            print(\"your pin succesfully changed\")\n",
        "            self.menu()\n",
        "        else :\n",
        "            print(\"nahi honga bhai\")\n",
        "            self.menu()\n",
        "\n",
        "    def check_balence(self):\n",
        "      pinn=input(\"Enter your pin: \")\n",
        "      if pinn==self.pin:\n",
        "        print('your balece is: ',self.balence)\n",
        "        self.menu()\n",
        "      else:\n",
        "        print(\"Galat pin hain bhaiii\")\n",
        "\n",
        "    def withdraw(self):\n",
        "      pinn=input(\"Enter your pin: \")\n",
        "      if pinn==self.pin:\n",
        "         withdraw_ammount=int(input(\"how much amount to withdraw: \"))\n",
        "         if int(self.balence) >= withdraw_ammount:\n",
        "             int(self.balence)==int(self.balence)-int(withdraw_ammount)\n",
        "             print('current balence is: ',int(self.balence)-(withdraw_ammount))\n",
        "             self.menu()\n",
        "         else:\n",
        "            print('exceed amount')\n",
        "            self.menu()\n",
        "      else:\n",
        "        print(\"Galat pin hain bhaiii\")\n",
        "\n",
        "\n",
        "\n",
        "\n"
      ],
      "metadata": {
        "id": "MR_LJRLjRE4Q"
      },
      "execution_count": null,
      "outputs": []
    },
    {
      "cell_type": "code",
      "source": [
        "\n",
        "\n",
        "a=Atm()"
      ],
      "metadata": {
        "colab": {
          "base_uri": "https://localhost:8080/"
        },
        "id": "ifhf8puxV04Y",
        "outputId": "5739d2d3-096a-41b4-ea79-07cb6c7c9a50"
      },
      "execution_count": null,
      "outputs": [
        {
          "name": "stdout",
          "output_type": "stream",
          "text": [
            "\n",
            "        1.Press 1 to create pin\n",
            "        2.press 2 to change pin\n",
            "        3.press 3 to check balence\n",
            "        4.press 4 to withdraw\n",
            "        5.Anything else to exit\n",
            "        1\n",
            "Create your pin123\n",
            "Your balence100\n",
            "Pin created successfully\n",
            "\n",
            "        1.Press 1 to create pin\n",
            "        2.press 2 to change pin\n",
            "        3.press 3 to check balence\n",
            "        4.press 4 to withdraw\n",
            "        5.Anything else to exit\n",
            "        4\n",
            "Enter your pin: 123\n",
            "how much amount to withdraw: 50\n",
            "current balence is:  50\n",
            "\n",
            "        1.Press 1 to create pin\n",
            "        2.press 2 to change pin\n",
            "        3.press 3 to check balence\n",
            "        4.press 4 to withdraw\n",
            "        5.Anything else to exit\n",
            "        5\n"
          ]
        }
      ]
    },
    {
      "cell_type": "code",
      "source": [
        "l=[1,2,3]\n",
        "len(l) # function -->it is outside the list class\n",
        "l.append(4) #method--=>it is inside the list class"
      ],
      "metadata": {
        "id": "uX-OUOAQhebx"
      },
      "execution_count": null,
      "outputs": []
    },
    {
      "cell_type": "code",
      "source": [
        "class New:\n",
        "  def __init__(self):\n",
        "    print(id(self))\n",
        "\n",
        "obj=New()"
      ],
      "metadata": {
        "id": "87rXoyTHV5oO",
        "colab": {
          "base_uri": "https://localhost:8080/"
        },
        "outputId": "196d7590-4d80-4138-8b27-74405ff16b9e"
      },
      "execution_count": null,
      "outputs": [
        {
          "output_type": "stream",
          "name": "stdout",
          "text": [
            "134723135630848\n"
          ]
        }
      ]
    },
    {
      "cell_type": "code",
      "source": [
        "print(id(obj))"
      ],
      "metadata": {
        "colab": {
          "base_uri": "https://localhost:8080/"
        },
        "id": "VcbjYilRXU8M",
        "outputId": "98e8b8ce-619a-4205-a825-3d2dcd8eb388"
      },
      "execution_count": null,
      "outputs": [
        {
          "output_type": "stream",
          "name": "stdout",
          "text": [
            "134723135630848\n"
          ]
        }
      ]
    },
    {
      "cell_type": "markdown",
      "source": [
        "These means self is object of that class"
      ],
      "metadata": {
        "id": "TDUge_PWXYz1"
      }
    },
    {
      "cell_type": "code",
      "source": [
        "class fraction:\n",
        "  def __init__(self,x,y):  #parameterized constructor\n",
        "    self.num=x\n",
        "    self.den=y\n",
        "\n",
        "  def __str__(self):\n",
        "    return '{}/{}'.format(self.num,self.den)\n",
        "\n",
        "  def __add__(n1,n2):\n",
        "    new_num=n1.num*n2.den+n2.num*n1.den\n",
        "    new_den=n1.den*n2.den\n",
        "    print('{}/{}'.format(new_num,new_den))\n",
        "\n",
        "  def __sub__(n1,n2):\n",
        "    new_num=n1.num*n2.den-n2.num*n1.den\n",
        "    new_den=n1.den*n2.den\n",
        "    print('{}/{}'.format(new_num,new_den))\n",
        "\n",
        "  def __mul__(n1,n2):\n",
        "    new_num=n1.num*n2.num\n",
        "    new_den=n1.den*n2.den\n",
        "    print('{}/{}'.format(new_num,new_den))\n",
        "\n",
        "  def __truediv__(n1,n2):\n",
        "    new_num=n1.num*n2.den\n",
        "    new_den=n1.den*n2.num\n",
        "    print('{}/{}'.format(new_num,new_den))\n",
        "\n",
        "\n",
        "\n",
        "\n",
        "fr1=fraction(3,4)\n",
        "fr2=fraction(1,2)\n",
        "print(fr1+fr2)\n",
        "print(fr1-fr2)\n",
        "print(fr1*fr2)\n",
        "print(fr1/fr2)"
      ],
      "metadata": {
        "colab": {
          "base_uri": "https://localhost:8080/"
        },
        "id": "GkuiwHMtXXJw",
        "outputId": "437a42e3-ad35-4550-bb55-859a7e113d8a"
      },
      "execution_count": 5,
      "outputs": [
        {
          "output_type": "stream",
          "name": "stdout",
          "text": [
            "10/8\n",
            "None\n",
            "2/8\n",
            "None\n",
            "3/8\n",
            "None\n",
            "6/4\n",
            "None\n"
          ]
        }
      ]
    },
    {
      "cell_type": "code",
      "source": [],
      "metadata": {
        "id": "_YW6zENrZ222"
      },
      "execution_count": null,
      "outputs": []
    }
  ]
}